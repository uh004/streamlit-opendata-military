{
 "cells": [
  {
   "cell_type": "markdown",
   "metadata": {},
   "source": [
    "### 병무청_모집병 군지원 접수현황\n",
    "- https://www.data.go.kr/tcs/dss/selectApiDataDetailView.do?publicDataPk=15031295"
   ]
  },
  {
   "cell_type": "code",
   "execution_count": 1,
   "metadata": {},
   "outputs": [],
   "source": [
    "import pandas as pd"
   ]
  },
  {
   "cell_type": "markdown",
   "metadata": {},
   "source": [
    "### 컬럼 정보\n",
    "\n",
    "1. extremes : '접수-선발인원(과부족)'\n",
    "2. gsteukgiCd : '군사특기코드'\n",
    "3. gsteukgiNm : '군사특기명'\n",
    "4. gunGbnm : '군구분코드명'\n",
    "5. iybudaeCdm : '입영부대명'\n",
    "6. iyyjjongryoYm : '입영종료월'\n",
    "7. iyyjsijakYm : '입영시작월'\n",
    "8. jeopsuJrdtm : '접수종료일자'\n",
    "9. jeopsuPcnt : '접수인원수'\n",
    "10. jeopsuSjdtm : '접수시작일'\n",
    "11. mojipGbnm : '모집구분명'\n",
    "12. mojipTms : '모집회차'\n",
    "13. mojipYy : '모집년도'\n",
    "14. rate : '지원률'\n",
    "15. rnum : '데이터번호'\n",
    "16. seonbalPcnt : '선발인원수'"
   ]
  },
  {
   "cell_type": "markdown",
   "metadata": {},
   "source": [
    "### 24-05-24 데이터"
   ]
  },
  {
   "cell_type": "code",
   "execution_count": 2,
   "metadata": {},
   "outputs": [
    {
     "data": {
      "text/html": [
       "<div>\n",
       "<style scoped>\n",
       "    .dataframe tbody tr th:only-of-type {\n",
       "        vertical-align: middle;\n",
       "    }\n",
       "\n",
       "    .dataframe tbody tr th {\n",
       "        vertical-align: top;\n",
       "    }\n",
       "\n",
       "    .dataframe thead th {\n",
       "        text-align: right;\n",
       "    }\n",
       "</style>\n",
       "<table border=\"1\" class=\"dataframe\">\n",
       "  <thead>\n",
       "    <tr style=\"text-align: right;\">\n",
       "      <th></th>\n",
       "      <th>Unnamed: 0</th>\n",
       "      <th>extremes</th>\n",
       "      <th>gsteukgiCd</th>\n",
       "      <th>gsteukgiNm</th>\n",
       "      <th>gunGbnm</th>\n",
       "      <th>iybudaeCdm</th>\n",
       "      <th>iyyjjongryoYm</th>\n",
       "      <th>iyyjsijakYm</th>\n",
       "      <th>jeopsuJrdtm</th>\n",
       "      <th>jeopsuPcnt</th>\n",
       "      <th>jeopsuSjdtm</th>\n",
       "      <th>mojipGbnm</th>\n",
       "      <th>mojipTms</th>\n",
       "      <th>mojipYy</th>\n",
       "      <th>rate</th>\n",
       "      <th>rnum</th>\n",
       "      <th>seonbalPcnt</th>\n",
       "    </tr>\n",
       "  </thead>\n",
       "  <tbody>\n",
       "    <tr>\n",
       "      <th>0</th>\n",
       "      <td>0</td>\n",
       "      <td>29</td>\n",
       "      <td>43</td>\n",
       "      <td>기관</td>\n",
       "      <td>해군</td>\n",
       "      <td>해군교육사령부</td>\n",
       "      <td>202405</td>\n",
       "      <td>202405</td>\n",
       "      <td>20240227</td>\n",
       "      <td>59</td>\n",
       "      <td>20240220</td>\n",
       "      <td>일반기술/전문기술병</td>\n",
       "      <td>102</td>\n",
       "      <td>2024</td>\n",
       "      <td>2.0</td>\n",
       "      <td>1</td>\n",
       "      <td>30</td>\n",
       "    </tr>\n",
       "    <tr>\n",
       "      <th>1</th>\n",
       "      <td>1</td>\n",
       "      <td>501</td>\n",
       "      <td>11</td>\n",
       "      <td>일반</td>\n",
       "      <td>해군</td>\n",
       "      <td>해군교육사령부</td>\n",
       "      <td>202405</td>\n",
       "      <td>202405</td>\n",
       "      <td>20240227</td>\n",
       "      <td>601</td>\n",
       "      <td>20240220</td>\n",
       "      <td>일반기술/전문기술병</td>\n",
       "      <td>102</td>\n",
       "      <td>2024</td>\n",
       "      <td>6.0</td>\n",
       "      <td>2</td>\n",
       "      <td>100</td>\n",
       "    </tr>\n",
       "    <tr>\n",
       "      <th>2</th>\n",
       "      <td>2</td>\n",
       "      <td>32</td>\n",
       "      <td>11.05</td>\n",
       "      <td>조리</td>\n",
       "      <td>해군</td>\n",
       "      <td>해군교육사령부</td>\n",
       "      <td>202405</td>\n",
       "      <td>202405</td>\n",
       "      <td>20240227</td>\n",
       "      <td>62</td>\n",
       "      <td>20240220</td>\n",
       "      <td>일반기술/전문기술병</td>\n",
       "      <td>102</td>\n",
       "      <td>2024</td>\n",
       "      <td>2.1</td>\n",
       "      <td>3</td>\n",
       "      <td>30</td>\n",
       "    </tr>\n",
       "    <tr>\n",
       "      <th>3</th>\n",
       "      <td>3</td>\n",
       "      <td>52</td>\n",
       "      <td>803</td>\n",
       "      <td>동반_군사경찰</td>\n",
       "      <td>해군</td>\n",
       "      <td>해군교육사령부</td>\n",
       "      <td>202405</td>\n",
       "      <td>202405</td>\n",
       "      <td>20240227</td>\n",
       "      <td>62</td>\n",
       "      <td>20240220</td>\n",
       "      <td>동반입대병</td>\n",
       "      <td>102</td>\n",
       "      <td>2024</td>\n",
       "      <td>6.2</td>\n",
       "      <td>4</td>\n",
       "      <td>10</td>\n",
       "    </tr>\n",
       "    <tr>\n",
       "      <th>4</th>\n",
       "      <td>4</td>\n",
       "      <td>28</td>\n",
       "      <td>B11</td>\n",
       "      <td>(2함대)일반</td>\n",
       "      <td>해군</td>\n",
       "      <td>해군교육사령부</td>\n",
       "      <td>202405</td>\n",
       "      <td>202405</td>\n",
       "      <td>20240227</td>\n",
       "      <td>78</td>\n",
       "      <td>20240220</td>\n",
       "      <td>복무지역선택병</td>\n",
       "      <td>102</td>\n",
       "      <td>2024</td>\n",
       "      <td>1.6</td>\n",
       "      <td>5</td>\n",
       "      <td>50</td>\n",
       "    </tr>\n",
       "  </tbody>\n",
       "</table>\n",
       "</div>"
      ],
      "text/plain": [
       "   Unnamed: 0  extremes gsteukgiCd gsteukgiNm gunGbnm iybudaeCdm  \\\n",
       "0           0        29         43         기관      해군    해군교육사령부   \n",
       "1           1       501         11         일반      해군    해군교육사령부   \n",
       "2           2        32      11.05         조리      해군    해군교육사령부   \n",
       "3           3        52        803    동반_군사경찰      해군    해군교육사령부   \n",
       "4           4        28        B11    (2함대)일반      해군    해군교육사령부   \n",
       "\n",
       "   iyyjjongryoYm  iyyjsijakYm  jeopsuJrdtm  jeopsuPcnt  jeopsuSjdtm  \\\n",
       "0         202405       202405     20240227          59     20240220   \n",
       "1         202405       202405     20240227         601     20240220   \n",
       "2         202405       202405     20240227          62     20240220   \n",
       "3         202405       202405     20240227          62     20240220   \n",
       "4         202405       202405     20240227          78     20240220   \n",
       "\n",
       "    mojipGbnm  mojipTms  mojipYy  rate  rnum  seonbalPcnt  \n",
       "0  일반기술/전문기술병       102     2024   2.0     1           30  \n",
       "1  일반기술/전문기술병       102     2024   6.0     2          100  \n",
       "2  일반기술/전문기술병       102     2024   2.1     3           30  \n",
       "3       동반입대병       102     2024   6.2     4           10  \n",
       "4     복무지역선택병       102     2024   1.6     5           50  "
      ]
     },
     "execution_count": 2,
     "metadata": {},
     "output_type": "execute_result"
    }
   ],
   "source": [
    "df = pd.read_csv('soldier.csv')\n",
    "df.head()"
   ]
  },
  {
   "cell_type": "code",
   "execution_count": 32,
   "metadata": {},
   "outputs": [
    {
     "data": {
      "text/html": [
       "<div>\n",
       "<style scoped>\n",
       "    .dataframe tbody tr th:only-of-type {\n",
       "        vertical-align: middle;\n",
       "    }\n",
       "\n",
       "    .dataframe tbody tr th {\n",
       "        vertical-align: top;\n",
       "    }\n",
       "\n",
       "    .dataframe thead th {\n",
       "        text-align: right;\n",
       "    }\n",
       "</style>\n",
       "<table border=\"1\" class=\"dataframe\">\n",
       "  <thead>\n",
       "    <tr style=\"text-align: right;\">\n",
       "      <th></th>\n",
       "      <th>gunGbnm</th>\n",
       "      <th>extremes</th>\n",
       "    </tr>\n",
       "  </thead>\n",
       "  <tbody>\n",
       "    <tr>\n",
       "      <th>0</th>\n",
       "      <td>해군</td>\n",
       "      <td>29</td>\n",
       "    </tr>\n",
       "    <tr>\n",
       "      <th>1</th>\n",
       "      <td>해군</td>\n",
       "      <td>501</td>\n",
       "    </tr>\n",
       "    <tr>\n",
       "      <th>2</th>\n",
       "      <td>해군</td>\n",
       "      <td>32</td>\n",
       "    </tr>\n",
       "    <tr>\n",
       "      <th>3</th>\n",
       "      <td>해군</td>\n",
       "      <td>52</td>\n",
       "    </tr>\n",
       "    <tr>\n",
       "      <th>4</th>\n",
       "      <td>해군</td>\n",
       "      <td>28</td>\n",
       "    </tr>\n",
       "    <tr>\n",
       "      <th>...</th>\n",
       "      <td>...</td>\n",
       "      <td>...</td>\n",
       "    </tr>\n",
       "    <tr>\n",
       "      <th>959</th>\n",
       "      <td>육군</td>\n",
       "      <td>266</td>\n",
       "    </tr>\n",
       "    <tr>\n",
       "      <th>960</th>\n",
       "      <td>육군</td>\n",
       "      <td>104</td>\n",
       "    </tr>\n",
       "    <tr>\n",
       "      <th>961</th>\n",
       "      <td>육군</td>\n",
       "      <td>68</td>\n",
       "    </tr>\n",
       "    <tr>\n",
       "      <th>962</th>\n",
       "      <td>육군</td>\n",
       "      <td>38</td>\n",
       "    </tr>\n",
       "    <tr>\n",
       "      <th>963</th>\n",
       "      <td>육군</td>\n",
       "      <td>160</td>\n",
       "    </tr>\n",
       "  </tbody>\n",
       "</table>\n",
       "<p>964 rows × 2 columns</p>\n",
       "</div>"
      ],
      "text/plain": [
       "    gunGbnm  extremes\n",
       "0        해군        29\n",
       "1        해군       501\n",
       "2        해군        32\n",
       "3        해군        52\n",
       "4        해군        28\n",
       "..      ...       ...\n",
       "959      육군       266\n",
       "960      육군       104\n",
       "961      육군        68\n",
       "962      육군        38\n",
       "963      육군       160\n",
       "\n",
       "[964 rows x 2 columns]"
      ]
     },
     "execution_count": 32,
     "metadata": {},
     "output_type": "execute_result"
    }
   ],
   "source": [
    "df[['gunGbnm', 'extremes']]"
   ]
  },
  {
   "cell_type": "code",
   "execution_count": 4,
   "metadata": {},
   "outputs": [
    {
     "data": {
      "text/html": [
       "<div>\n",
       "<style scoped>\n",
       "    .dataframe tbody tr th:only-of-type {\n",
       "        vertical-align: middle;\n",
       "    }\n",
       "\n",
       "    .dataframe tbody tr th {\n",
       "        vertical-align: top;\n",
       "    }\n",
       "\n",
       "    .dataframe thead th {\n",
       "        text-align: right;\n",
       "    }\n",
       "</style>\n",
       "<table border=\"1\" class=\"dataframe\">\n",
       "  <thead>\n",
       "    <tr style=\"text-align: right;\">\n",
       "      <th></th>\n",
       "      <th>month</th>\n",
       "      <th>gunGbnm</th>\n",
       "      <th>extremes</th>\n",
       "    </tr>\n",
       "  </thead>\n",
       "  <tbody>\n",
       "    <tr>\n",
       "      <th>0</th>\n",
       "      <td>5</td>\n",
       "      <td>공군</td>\n",
       "      <td>24</td>\n",
       "    </tr>\n",
       "    <tr>\n",
       "      <th>1</th>\n",
       "      <td>5</td>\n",
       "      <td>육군</td>\n",
       "      <td>125</td>\n",
       "    </tr>\n",
       "    <tr>\n",
       "      <th>2</th>\n",
       "      <td>5</td>\n",
       "      <td>해군</td>\n",
       "      <td>52</td>\n",
       "    </tr>\n",
       "    <tr>\n",
       "      <th>3</th>\n",
       "      <td>5</td>\n",
       "      <td>해병</td>\n",
       "      <td>9</td>\n",
       "    </tr>\n",
       "    <tr>\n",
       "      <th>4</th>\n",
       "      <td>6</td>\n",
       "      <td>육군</td>\n",
       "      <td>101</td>\n",
       "    </tr>\n",
       "    <tr>\n",
       "      <th>5</th>\n",
       "      <td>6</td>\n",
       "      <td>해군</td>\n",
       "      <td>54</td>\n",
       "    </tr>\n",
       "    <tr>\n",
       "      <th>6</th>\n",
       "      <td>6</td>\n",
       "      <td>해병</td>\n",
       "      <td>14</td>\n",
       "    </tr>\n",
       "    <tr>\n",
       "      <th>7</th>\n",
       "      <td>7</td>\n",
       "      <td>공군</td>\n",
       "      <td>24</td>\n",
       "    </tr>\n",
       "    <tr>\n",
       "      <th>8</th>\n",
       "      <td>7</td>\n",
       "      <td>육군</td>\n",
       "      <td>144</td>\n",
       "    </tr>\n",
       "    <tr>\n",
       "      <th>9</th>\n",
       "      <td>7</td>\n",
       "      <td>해군</td>\n",
       "      <td>43</td>\n",
       "    </tr>\n",
       "    <tr>\n",
       "      <th>10</th>\n",
       "      <td>7</td>\n",
       "      <td>해병</td>\n",
       "      <td>14</td>\n",
       "    </tr>\n",
       "    <tr>\n",
       "      <th>11</th>\n",
       "      <td>8</td>\n",
       "      <td>공군</td>\n",
       "      <td>21</td>\n",
       "    </tr>\n",
       "    <tr>\n",
       "      <th>12</th>\n",
       "      <td>8</td>\n",
       "      <td>육군</td>\n",
       "      <td>113</td>\n",
       "    </tr>\n",
       "    <tr>\n",
       "      <th>13</th>\n",
       "      <td>8</td>\n",
       "      <td>해군</td>\n",
       "      <td>33</td>\n",
       "    </tr>\n",
       "    <tr>\n",
       "      <th>14</th>\n",
       "      <td>8</td>\n",
       "      <td>해병</td>\n",
       "      <td>9</td>\n",
       "    </tr>\n",
       "    <tr>\n",
       "      <th>15</th>\n",
       "      <td>9</td>\n",
       "      <td>공군</td>\n",
       "      <td>22</td>\n",
       "    </tr>\n",
       "    <tr>\n",
       "      <th>16</th>\n",
       "      <td>9</td>\n",
       "      <td>육군</td>\n",
       "      <td>115</td>\n",
       "    </tr>\n",
       "    <tr>\n",
       "      <th>17</th>\n",
       "      <td>9</td>\n",
       "      <td>해군</td>\n",
       "      <td>33</td>\n",
       "    </tr>\n",
       "    <tr>\n",
       "      <th>18</th>\n",
       "      <td>9</td>\n",
       "      <td>해병</td>\n",
       "      <td>9</td>\n",
       "    </tr>\n",
       "    <tr>\n",
       "      <th>19</th>\n",
       "      <td>10</td>\n",
       "      <td>육군</td>\n",
       "      <td>4</td>\n",
       "    </tr>\n",
       "    <tr>\n",
       "      <th>20</th>\n",
       "      <td>11</td>\n",
       "      <td>육군</td>\n",
       "      <td>1</td>\n",
       "    </tr>\n",
       "  </tbody>\n",
       "</table>\n",
       "</div>"
      ],
      "text/plain": [
       "    month gunGbnm  extremes\n",
       "0       5      공군        24\n",
       "1       5      육군       125\n",
       "2       5      해군        52\n",
       "3       5      해병         9\n",
       "4       6      육군       101\n",
       "5       6      해군        54\n",
       "6       6      해병        14\n",
       "7       7      공군        24\n",
       "8       7      육군       144\n",
       "9       7      해군        43\n",
       "10      7      해병        14\n",
       "11      8      공군        21\n",
       "12      8      육군       113\n",
       "13      8      해군        33\n",
       "14      8      해병         9\n",
       "15      9      공군        22\n",
       "16      9      육군       115\n",
       "17      9      해군        33\n",
       "18      9      해병         9\n",
       "19     10      육군         4\n",
       "20     11      육군         1"
      ]
     },
     "execution_count": 4,
     "metadata": {},
     "output_type": "execute_result"
    }
   ],
   "source": [
    "df['iyyjsijakYm'] = pd.to_datetime(df['iyyjsijakYm'], format=('%Y%m'))\n",
    "df['month'] = df['iyyjsijakYm'].dt.month\n",
    "\n",
    "bar_df = df.groupby(['month','gunGbnm'])['extremes'].agg('count').reset_index()\n",
    "bar_df"
   ]
  },
  {
   "cell_type": "code",
   "execution_count": 5,
   "metadata": {},
   "outputs": [
    {
     "data": {
      "text/html": [
       "<div>\n",
       "<style scoped>\n",
       "    .dataframe tbody tr th:only-of-type {\n",
       "        vertical-align: middle;\n",
       "    }\n",
       "\n",
       "    .dataframe tbody tr th {\n",
       "        vertical-align: top;\n",
       "    }\n",
       "\n",
       "    .dataframe thead th {\n",
       "        text-align: right;\n",
       "    }\n",
       "</style>\n",
       "<table border=\"1\" class=\"dataframe\">\n",
       "  <thead>\n",
       "    <tr style=\"text-align: right;\">\n",
       "      <th></th>\n",
       "      <th>iyyjsijakYm</th>\n",
       "      <th>gunGbnm</th>\n",
       "      <th>rate</th>\n",
       "    </tr>\n",
       "  </thead>\n",
       "  <tbody>\n",
       "    <tr>\n",
       "      <th>0</th>\n",
       "      <td>2024-05-01</td>\n",
       "      <td>공군</td>\n",
       "      <td>7.578261</td>\n",
       "    </tr>\n",
       "    <tr>\n",
       "      <th>1</th>\n",
       "      <td>2024-05-01</td>\n",
       "      <td>육군</td>\n",
       "      <td>4.779200</td>\n",
       "    </tr>\n",
       "    <tr>\n",
       "      <th>2</th>\n",
       "      <td>2024-05-01</td>\n",
       "      <td>해군</td>\n",
       "      <td>1.955769</td>\n",
       "    </tr>\n",
       "    <tr>\n",
       "      <th>3</th>\n",
       "      <td>2024-05-01</td>\n",
       "      <td>해병</td>\n",
       "      <td>3.188889</td>\n",
       "    </tr>\n",
       "    <tr>\n",
       "      <th>4</th>\n",
       "      <td>2024-06-01</td>\n",
       "      <td>육군</td>\n",
       "      <td>3.736634</td>\n",
       "    </tr>\n",
       "    <tr>\n",
       "      <th>5</th>\n",
       "      <td>2024-06-01</td>\n",
       "      <td>해군</td>\n",
       "      <td>1.390741</td>\n",
       "    </tr>\n",
       "    <tr>\n",
       "      <th>6</th>\n",
       "      <td>2024-06-01</td>\n",
       "      <td>해병</td>\n",
       "      <td>2.042857</td>\n",
       "    </tr>\n",
       "    <tr>\n",
       "      <th>7</th>\n",
       "      <td>2024-07-01</td>\n",
       "      <td>공군</td>\n",
       "      <td>6.154167</td>\n",
       "    </tr>\n",
       "    <tr>\n",
       "      <th>8</th>\n",
       "      <td>2024-07-01</td>\n",
       "      <td>육군</td>\n",
       "      <td>4.611111</td>\n",
       "    </tr>\n",
       "    <tr>\n",
       "      <th>9</th>\n",
       "      <td>2024-07-01</td>\n",
       "      <td>해군</td>\n",
       "      <td>1.330233</td>\n",
       "    </tr>\n",
       "    <tr>\n",
       "      <th>10</th>\n",
       "      <td>2024-07-01</td>\n",
       "      <td>해병</td>\n",
       "      <td>2.014286</td>\n",
       "    </tr>\n",
       "    <tr>\n",
       "      <th>11</th>\n",
       "      <td>2024-08-01</td>\n",
       "      <td>공군</td>\n",
       "      <td>4.666667</td>\n",
       "    </tr>\n",
       "    <tr>\n",
       "      <th>12</th>\n",
       "      <td>2024-08-01</td>\n",
       "      <td>육군</td>\n",
       "      <td>2.900885</td>\n",
       "    </tr>\n",
       "    <tr>\n",
       "      <th>13</th>\n",
       "      <td>2024-08-01</td>\n",
       "      <td>해군</td>\n",
       "      <td>1.600000</td>\n",
       "    </tr>\n",
       "    <tr>\n",
       "      <th>14</th>\n",
       "      <td>2024-08-01</td>\n",
       "      <td>해병</td>\n",
       "      <td>1.877778</td>\n",
       "    </tr>\n",
       "    <tr>\n",
       "      <th>15</th>\n",
       "      <td>2024-09-01</td>\n",
       "      <td>공군</td>\n",
       "      <td>0.000000</td>\n",
       "    </tr>\n",
       "    <tr>\n",
       "      <th>16</th>\n",
       "      <td>2024-09-01</td>\n",
       "      <td>육군</td>\n",
       "      <td>0.044348</td>\n",
       "    </tr>\n",
       "    <tr>\n",
       "      <th>17</th>\n",
       "      <td>2024-09-01</td>\n",
       "      <td>해군</td>\n",
       "      <td>0.000000</td>\n",
       "    </tr>\n",
       "    <tr>\n",
       "      <th>18</th>\n",
       "      <td>2024-09-01</td>\n",
       "      <td>해병</td>\n",
       "      <td>0.000000</td>\n",
       "    </tr>\n",
       "    <tr>\n",
       "      <th>19</th>\n",
       "      <td>2024-10-01</td>\n",
       "      <td>육군</td>\n",
       "      <td>1.875000</td>\n",
       "    </tr>\n",
       "    <tr>\n",
       "      <th>20</th>\n",
       "      <td>2024-11-01</td>\n",
       "      <td>육군</td>\n",
       "      <td>0.000000</td>\n",
       "    </tr>\n",
       "    <tr>\n",
       "      <th>21</th>\n",
       "      <td>2025-05-01</td>\n",
       "      <td>공군</td>\n",
       "      <td>2.000000</td>\n",
       "    </tr>\n",
       "  </tbody>\n",
       "</table>\n",
       "</div>"
      ],
      "text/plain": [
       "   iyyjsijakYm gunGbnm      rate\n",
       "0   2024-05-01      공군  7.578261\n",
       "1   2024-05-01      육군  4.779200\n",
       "2   2024-05-01      해군  1.955769\n",
       "3   2024-05-01      해병  3.188889\n",
       "4   2024-06-01      육군  3.736634\n",
       "5   2024-06-01      해군  1.390741\n",
       "6   2024-06-01      해병  2.042857\n",
       "7   2024-07-01      공군  6.154167\n",
       "8   2024-07-01      육군  4.611111\n",
       "9   2024-07-01      해군  1.330233\n",
       "10  2024-07-01      해병  2.014286\n",
       "11  2024-08-01      공군  4.666667\n",
       "12  2024-08-01      육군  2.900885\n",
       "13  2024-08-01      해군  1.600000\n",
       "14  2024-08-01      해병  1.877778\n",
       "15  2024-09-01      공군  0.000000\n",
       "16  2024-09-01      육군  0.044348\n",
       "17  2024-09-01      해군  0.000000\n",
       "18  2024-09-01      해병  0.000000\n",
       "19  2024-10-01      육군  1.875000\n",
       "20  2024-11-01      육군  0.000000\n",
       "21  2025-05-01      공군  2.000000"
      ]
     },
     "execution_count": 5,
     "metadata": {},
     "output_type": "execute_result"
    }
   ],
   "source": [
    "df.groupby(['iyyjsijakYm', 'gunGbnm'])['rate'].mean().reset_index()"
   ]
  },
  {
   "cell_type": "code",
   "execution_count": 6,
   "metadata": {},
   "outputs": [
    {
     "data": {
      "text/html": [
       "<div>\n",
       "<style scoped>\n",
       "    .dataframe tbody tr th:only-of-type {\n",
       "        vertical-align: middle;\n",
       "    }\n",
       "\n",
       "    .dataframe tbody tr th {\n",
       "        vertical-align: top;\n",
       "    }\n",
       "\n",
       "    .dataframe thead th {\n",
       "        text-align: right;\n",
       "    }\n",
       "</style>\n",
       "<table border=\"1\" class=\"dataframe\">\n",
       "  <thead>\n",
       "    <tr style=\"text-align: right;\">\n",
       "      <th></th>\n",
       "      <th>seonbalPcnt</th>\n",
       "      <th>jeopsuPcnt</th>\n",
       "    </tr>\n",
       "  </thead>\n",
       "  <tbody>\n",
       "    <tr>\n",
       "      <th>0</th>\n",
       "      <td>30</td>\n",
       "      <td>59</td>\n",
       "    </tr>\n",
       "    <tr>\n",
       "      <th>1</th>\n",
       "      <td>100</td>\n",
       "      <td>601</td>\n",
       "    </tr>\n",
       "    <tr>\n",
       "      <th>2</th>\n",
       "      <td>30</td>\n",
       "      <td>62</td>\n",
       "    </tr>\n",
       "    <tr>\n",
       "      <th>3</th>\n",
       "      <td>10</td>\n",
       "      <td>62</td>\n",
       "    </tr>\n",
       "    <tr>\n",
       "      <th>4</th>\n",
       "      <td>50</td>\n",
       "      <td>78</td>\n",
       "    </tr>\n",
       "    <tr>\n",
       "      <th>...</th>\n",
       "      <td>...</td>\n",
       "      <td>...</td>\n",
       "    </tr>\n",
       "    <tr>\n",
       "      <th>959</th>\n",
       "      <td>40</td>\n",
       "      <td>306</td>\n",
       "    </tr>\n",
       "    <tr>\n",
       "      <th>960</th>\n",
       "      <td>144</td>\n",
       "      <td>248</td>\n",
       "    </tr>\n",
       "    <tr>\n",
       "      <th>961</th>\n",
       "      <td>96</td>\n",
       "      <td>164</td>\n",
       "    </tr>\n",
       "    <tr>\n",
       "      <th>962</th>\n",
       "      <td>42</td>\n",
       "      <td>80</td>\n",
       "    </tr>\n",
       "    <tr>\n",
       "      <th>963</th>\n",
       "      <td>86</td>\n",
       "      <td>246</td>\n",
       "    </tr>\n",
       "  </tbody>\n",
       "</table>\n",
       "<p>964 rows × 2 columns</p>\n",
       "</div>"
      ],
      "text/plain": [
       "     seonbalPcnt  jeopsuPcnt\n",
       "0             30          59\n",
       "1            100         601\n",
       "2             30          62\n",
       "3             10          62\n",
       "4             50          78\n",
       "..           ...         ...\n",
       "959           40         306\n",
       "960          144         248\n",
       "961           96         164\n",
       "962           42          80\n",
       "963           86         246\n",
       "\n",
       "[964 rows x 2 columns]"
      ]
     },
     "execution_count": 6,
     "metadata": {},
     "output_type": "execute_result"
    }
   ],
   "source": [
    "# 선발 인원 접수 인원\n",
    "df[['seonbalPcnt', 'jeopsuPcnt']]"
   ]
  },
  {
   "cell_type": "code",
   "execution_count": 7,
   "metadata": {},
   "outputs": [
    {
     "data": {
      "text/plain": [
       "month  gunGbnm\n",
       "5      공군          8976\n",
       "       육군         15181\n",
       "       해군          1528\n",
       "       해병           993\n",
       "6      육군          8263\n",
       "       해군            66\n",
       "       해병           506\n",
       "7      공군          6089\n",
       "       육군          7821\n",
       "       해군           281\n",
       "       해병           517\n",
       "8      공군          5236\n",
       "       육군          3111\n",
       "       해군           289\n",
       "       해병          -109\n",
       "9      공군         -1594\n",
       "       육군         -5204\n",
       "       해군          -500\n",
       "       해병         -1000\n",
       "10     육군           -87\n",
       "11     육군            -8\n",
       "Name: extremes, dtype: int64"
      ]
     },
     "execution_count": 7,
     "metadata": {},
     "output_type": "execute_result"
    }
   ],
   "source": [
    "df.groupby(['month','gunGbnm'])['extremes'].agg('sum')"
   ]
  },
  {
   "cell_type": "code",
   "execution_count": 8,
   "metadata": {},
   "outputs": [
    {
     "data": {
      "text/plain": [
       "[18707, 29077, 1664, 907]"
      ]
     },
     "execution_count": 8,
     "metadata": {},
     "output_type": "execute_result"
    }
   ],
   "source": [
    "list(df.groupby('gunGbnm')['extremes'].sum())"
   ]
  },
  {
   "cell_type": "code",
   "execution_count": 9,
   "metadata": {},
   "outputs": [
    {
     "data": {
      "text/plain": [
       "month  gunGbnm\n",
       "5      공군          24\n",
       "       육군         125\n",
       "       해군          52\n",
       "       해병           9\n",
       "6      육군         101\n",
       "       해군          54\n",
       "       해병          14\n",
       "7      공군          24\n",
       "       육군         144\n",
       "       해군          43\n",
       "       해병          14\n",
       "8      공군          21\n",
       "       육군         113\n",
       "       해군          33\n",
       "       해병           9\n",
       "9      공군          22\n",
       "       육군         115\n",
       "       해군          33\n",
       "       해병           9\n",
       "10     육군           4\n",
       "11     육군           1\n",
       "Name: extremes, dtype: int64"
      ]
     },
     "execution_count": 9,
     "metadata": {},
     "output_type": "execute_result"
    }
   ],
   "source": [
    "df.groupby(['month', 'gunGbnm'])['extremes'].count()"
   ]
  },
  {
   "cell_type": "code",
   "execution_count": 10,
   "metadata": {},
   "outputs": [
    {
     "data": {
      "text/plain": [
       "array([   29,   501,    32,    52,    28,    -2,    -1,     0,   -13,\n",
       "          16,     6,     4,    22,   253,    74,    72,   133,   130,\n",
       "           7,   169,    82,    21,   643,   189,   187,    17,    48,\n",
       "           9,   -11,    58,   186,    -4,    23,   298,    20,   -15,\n",
       "          34,    -6,    30,    15,    35,     5,   -89,    11,    13,\n",
       "          59,    10,    39,   286,    88,  1044,    37,    47,    26,\n",
       "           8,    51,   159,    62,    -8,    25,     3,     1,   119,\n",
       "          45,   116,    96,   -25,    -9,    41,    14,    24,    33,\n",
       "          81,    36,   -76,   -18,  -199,   -70,   -87,   -41,   -27,\n",
       "          -3,   -43,    -7,   -56,    -5,   -10,   -71,   -97,   -82,\n",
       "         -12,   -40,  -176,   -46,   -62,  -223, -1400,   -28,   -20,\n",
       "         -34,   -31,   -26,   -79,   -42,   -44,   -22,   -19,   -24,\n",
       "         -58,   -37,   -16,    65,    19,    18,     2,   453,   144,\n",
       "         382,   419,   290,   148,   124,   233,   170,   605,   -47,\n",
       "          83,    42,    46,   147,   512,  -136,   -14,    43,   192,\n",
       "         207,   191,    38,  3163,   438,    85,   225,   155,   100,\n",
       "         885,    93,   573,    12,   136,   150,   452,  1726,   165,\n",
       "         167,   108,  5123,    66,   732,    40,    27,   161,   267,\n",
       "          56,   129,   258,   112,   141,    98,    99,   145,   128,\n",
       "         301,   135,   332,   421,    44,   127,    70,   118,   103,\n",
       "         553,    86,    49,   405,    54,   115,   281,   426,   120,\n",
       "         215,   206,   311,    63,   532,  2758,   202,   778,   208,\n",
       "         226,  -110,    75,   -30,   -51,   -29,   -45,   -21,   -88,\n",
       "         392,   563,    31,   114,   220,    69,   152,   -63,   282,\n",
       "         -39,    89,    87,    92,   110,   254,   122,    91,    55,\n",
       "         234,   288,   223,    71,    73,  1512,   166,   306,   158,\n",
       "          53,    77,   125,   297,   219,   238,   941,   262,   -33,\n",
       "        -105,   -55,    57,   185,    60,   -17,   -35,  -155,  -622,\n",
       "        -106,  -256,   -92,   -38,   -96,  -100,   -84,  -103,  -768,\n",
       "        -246,  -259,   -32,  -131,   -60,  -138,  3430,   221,  1199,\n",
       "         151,   123,   469,   -23,   248,   178,   149,   102,   203,\n",
       "         142,   236,   104,   266,    68,   160], dtype=int64)"
      ]
     },
     "execution_count": 10,
     "metadata": {},
     "output_type": "execute_result"
    }
   ],
   "source": [
    "# 접수 선발인원(과부족)\n",
    "df['extremes'].unique()"
   ]
  },
  {
   "cell_type": "code",
   "execution_count": 11,
   "metadata": {},
   "outputs": [
    {
     "data": {
      "text/plain": [
       "array(['43', '11', '11.05', '803', 'B11', 'B43', 'A11.05', 'A43',\n",
       "       'B11.05', 'A11', '900101', '311334', '471277', '471278', '471279',\n",
       "       '175104', '321102', 'A001', '141.101', '171.102', '171.104',\n",
       "       '172.101', '175.102', '225.101', '226.101', '241.100', '243.101',\n",
       "       '321.101', '131.107', '132.102', '133.106', '141.103', '141.105',\n",
       "       '163.107', '172.102', '211.103', '221.102', '222.102', '241.107',\n",
       "       'M161.104', 'M241.104', 'M241.107', 'M243.102', '412.105',\n",
       "       '132.103', '162.102', '163.114', '231.102', '241.108', 'M224.104',\n",
       "       '412.101', '412.104', '133.103', '153.101', '163.108', '163.113',\n",
       "       '211.102', '222.101', '224.104', '242.101', '411.101', '412.102',\n",
       "       '141.107', '162.104', '211.101', '223.103', '411.103', '152.101',\n",
       "       '123.101', '143.101', '151.101', '163.104', '171.107', '174.101',\n",
       "       '175.103', '181.101', '241.104', '241.106', 'M162.104', 'M241.105',\n",
       "       'M241.109', '412.103', '131.104', '131.106', '171.101', '224.106',\n",
       "       '231.101', '231.107', '241.109', 'M163.113', 'M231.107',\n",
       "       'M241.100', '412.106', '152.103', '161.104', '162.103', '163.105',\n",
       "       '163.115', '175.101', '224.101', '231.103', '241.105', '243.102',\n",
       "       'E00001', '222.104', '411.108', '163.112', '163.102', '182.104',\n",
       "       '241.113', '123.102', '163.101', '222.103', '141.106', '122.101',\n",
       "       '123.103', '224.102', '121.102', '331.101', 'H001', 'D001',\n",
       "       '43.44', '11.24', '25', '49', '43.39', '11.02', '11.26', '46',\n",
       "       '48', '802', '36', '36.01', '55.03', '55.02', '19.03', '23.01',\n",
       "       '17.01', '32.01', '17.05', '902', '55.01', '58', '53.01', '53.02',\n",
       "       '53.03', '59', '61', '60', '64', '21', '16', '18', '15', '17',\n",
       "       '19', '20', '24', '63', '17.04', '80', '66', '31', '30', '26',\n",
       "       '34', '40', '55', '45.01', '44', '42.03', '42.01', '53', '41.01',\n",
       "       '111275', '111284', '342.101.', '111292', '111000', '152101',\n",
       "       '156101', '112100', '175105', '121.101', '141.102', '224.103',\n",
       "       '223.101', '222.105', '224.107', '54', '45.04', '50', '0001604',\n",
       "       '0001605', '0001610', '0001606', '152296', '321103', '122.103',\n",
       "       '123.104', '341.102', '133.107', '231.106', '141.104', '211.104',\n",
       "       '134.101', '223.106', '222.109', '55.04', '45.03', '41.02',\n",
       "       '341335', 'B172.101', '321273', 'B175.102', 'B222.101', 'B222.105',\n",
       "       'B172.102', 'B163.113', 'B224.101', '42.02', '0001600', '411294',\n",
       "       '331267', '341336', '341337'], dtype=object)"
      ]
     },
     "execution_count": 11,
     "metadata": {},
     "output_type": "execute_result"
    }
   ],
   "source": [
    "# 군사특기 코드\n",
    "df['gsteukgiCd'].unique()"
   ]
  },
  {
   "cell_type": "code",
   "execution_count": 12,
   "metadata": {},
   "outputs": [
    {
     "data": {
      "text/plain": [
       "array(['기관', '일반', '조리', '동반_군사경찰', '(2함대)일반', '(2함대)기관', '(1함대)조리',\n",
       "       '(1함대)기관', '(2함대)조리', '(1함대)일반', '군사과학기술병', '지식재산관리병', '기독교군종병',\n",
       "       '천주교군종병', '불교군종병', '정보보호병', '특임군사경찰', '동반입대병', '발칸운용/정비',\n",
       "       '무선전송장비운용/정비', '이동통신장비운용/정비', 'MW운용/정비', '전술C4I운용/정비', '탄약관리',\n",
       "       '장비수리부속공구보급', '수송운용(차량운전)', '항만운용', '군사경찰', 'K-9자주포조종', 'K239포병',\n",
       "       '포병레이더', '비호운용/정비', '휴대용유도무기운용/정비', '공기압축기운용', '위성운용/정비', '화생방제독',\n",
       "       '로켓무기정비', '화포정비', '차량부대정비', '야전건설(중졸)', '견인차량운전(중졸)', '차량부대정비(중졸)',\n",
       "       '선박운용(중졸)', '전문약제', 'M/A포병', '소방장비', '발전기운용/정비', '영현등록',\n",
       "       'K-53계열차량운전', '용접/기계공작(중졸)', '전문간호', '전문방사선촬영', '사격지휘', '감시장비운용',\n",
       "       '크레인운용', '굴착기운용', '연막', '총기정비', '용접/기계공작', '전장이동통제', '일반의무',\n",
       "       '전문치과', '천호운용/정비', '전기설비', '화생방', '무선장비정비', '수의', '신호정보/전자전운용',\n",
       "       '장갑차조종', '방공레이더운용/정비', '군사정보', '도하장비조종', '교환시설운용/정비', '레이다운용/정비',\n",
       "       '정보체계운용/정비', '항공운항/관제', '견인차량운전', '차륜형장갑차운전', '전기설비(중졸)',\n",
       "       '지게차운전(중졸)', '구난차량운전(중졸)', '전문임상병리', 'K-55자주포조종', 'K-55자주포정비',\n",
       "       '전술통신장비운용/정비', '화생방장비정비', '편성보급', '구난차량운전', '굴착기운용(중졸)', '조리(중졸)',\n",
       "       '수송운용(중졸)', '전문물리치료', '땅굴탐지', '야전건설', '배관/기계설비', '정수장비운용',\n",
       "       '공병장비부대정비', '네트워크운용/정비', '차량정비', '지원보급', '지게차운전', '선박운용',\n",
       "       '국군체육특기병', '감시장비정비', '의무보급', '로더운전', '다목적굴착기운전', '기동헬기운용',\n",
       "       '크레인차량운전', '장갑차부대정비', '장갑전투도저운전', '광학기재정비', '천마운용/정비', 'K계열전차부대정비',\n",
       "       'K-21보병전투차량승무', '공병장비정비', 'M계열전차승무', '재정회계', '연고지복무병',\n",
       "       '직계가족복무부대지원입대병', '전기', '항공', '통신', '의무', '전산', '전자', '건축/토목', '수송',\n",
       "       '동반_갑판', '군악병', '문화홍보병', '어학병_중국어', '어학병_일본어', '공병', '무기정비', '화학',\n",
       "       '유급_기관.기체', '어학병_영어', '전문정보병', '군종병_기독교', '군종병_천주교', '군종병_불교',\n",
       "       'CBT병', '전문의무병', '위생관리병', '통신전자전기', '기계', '전자계산', '차량운전', '의장병',\n",
       "       '빅데이터분석병', '수색', '특수임무군사경찰', '어학병', '군견관리병', '정훈병', '무인항공기운용병',\n",
       "       '교육훈련_3D모델링', '전문자격의무병', '비파괴검사병', '식별보조_러시아어', '식별보조_중국어', '조리병',\n",
       "       '콘텐츠_그래픽디자인', '유해발굴기록병', '군악', '훈련소조교병', 'JSA경비병', '드론운용/정비병',\n",
       "       '특전병', 'SW개발병', 'K계열전차승무', '오리콘운용/정비', '발전기정비', '유선장비정비', '전차정비',\n",
       "       '의무장비정비', 'IT개발관리병', '교육훈련_영상/사진', '운항관리병', '일본어어학병', '중국어어학병',\n",
       "       '아랍어어학병', '러시아어어학병', '탐지분석병', 'MC군사경찰', 'M계열전차부대정비',\n",
       "       'K-21보병전투차량부대정비', '영상제작', '포병측지', '물자근무지원', '방공작전통제', '화생방정찰',\n",
       "       '현무포병', '특수통신장비정비', '통번역병', '자주포야전정비', '어학병_러시아어', '교육훈련_디자인',\n",
       "       '콘텐츠_영상촬영편집', '영상콘텐츠디자이너병', '(임기제)MW운용/정비', '33경호병',\n",
       "       '(임기제)전술C4I운용/정비', '(임기제)총기정비', '(임기제)전차정비', '(임기제)위성운용/정비',\n",
       "       '(임기제)굴착기운용', '(임기제)차량정비', '식별보조_일본어', '영어어학병', '유해발굴감식병',\n",
       "       '회계원가비용분석병', '그래픽디자이너병', '사진콘텐츠디자이너병'], dtype=object)"
      ]
     },
     "execution_count": 12,
     "metadata": {},
     "output_type": "execute_result"
    }
   ],
   "source": [
    "# 군사특기명\n",
    "df['gsteukgiNm'].unique()"
   ]
  },
  {
   "cell_type": "code",
   "execution_count": 13,
   "metadata": {},
   "outputs": [
    {
     "data": {
      "text/plain": [
       "array(['해군', '육군', '해병', '공군'], dtype=object)"
      ]
     },
     "execution_count": 13,
     "metadata": {},
     "output_type": "execute_result"
    }
   ],
   "source": [
    "# '군구분코드명'\n",
    "df['gunGbnm'].unique()"
   ]
  },
  {
   "cell_type": "code",
   "execution_count": 14,
   "metadata": {},
   "outputs": [
    {
     "data": {
      "text/plain": [
       "iybudaeCdm\n",
       "12사단         15\n",
       "15사단         15\n",
       "21사단         15\n",
       "28사단         16\n",
       "36사단          5\n",
       "3사단          20\n",
       "51사단         10\n",
       "55사단         10\n",
       "5사단          20\n",
       "6사단          20\n",
       "7사단          15\n",
       "공군교육사령부      91\n",
       "육군훈련소       442\n",
       "해군교육사령부     215\n",
       "해병대교육훈련단     55\n",
       "Name: gunGbnm, dtype: int64"
      ]
     },
     "execution_count": 14,
     "metadata": {},
     "output_type": "execute_result"
    }
   ],
   "source": [
    "df.groupby('iybudaeCdm')['gunGbnm'].count()"
   ]
  },
  {
   "cell_type": "code",
   "execution_count": 15,
   "metadata": {},
   "outputs": [
    {
     "data": {
      "text/html": [
       "<div>\n",
       "<style scoped>\n",
       "    .dataframe tbody tr th:only-of-type {\n",
       "        vertical-align: middle;\n",
       "    }\n",
       "\n",
       "    .dataframe tbody tr th {\n",
       "        vertical-align: top;\n",
       "    }\n",
       "\n",
       "    .dataframe thead th {\n",
       "        text-align: right;\n",
       "    }\n",
       "</style>\n",
       "<table border=\"1\" class=\"dataframe\">\n",
       "  <thead>\n",
       "    <tr style=\"text-align: right;\">\n",
       "      <th></th>\n",
       "      <th></th>\n",
       "      <th>gunGbnm</th>\n",
       "    </tr>\n",
       "    <tr>\n",
       "      <th>month</th>\n",
       "      <th>iybudaeCdm</th>\n",
       "      <th></th>\n",
       "    </tr>\n",
       "  </thead>\n",
       "  <tbody>\n",
       "    <tr>\n",
       "      <th rowspan=\"5\" valign=\"top\">5</th>\n",
       "      <th>12사단</th>\n",
       "      <td>3</td>\n",
       "    </tr>\n",
       "    <tr>\n",
       "      <th>15사단</th>\n",
       "      <td>3</td>\n",
       "    </tr>\n",
       "    <tr>\n",
       "      <th>21사단</th>\n",
       "      <td>3</td>\n",
       "    </tr>\n",
       "    <tr>\n",
       "      <th>28사단</th>\n",
       "      <td>4</td>\n",
       "    </tr>\n",
       "    <tr>\n",
       "      <th>36사단</th>\n",
       "      <td>1</td>\n",
       "    </tr>\n",
       "    <tr>\n",
       "      <th>...</th>\n",
       "      <th>...</th>\n",
       "      <td>...</td>\n",
       "    </tr>\n",
       "    <tr>\n",
       "      <th rowspan=\"3\" valign=\"top\">9</th>\n",
       "      <th>육군훈련소</th>\n",
       "      <td>86</td>\n",
       "    </tr>\n",
       "    <tr>\n",
       "      <th>해군교육사령부</th>\n",
       "      <td>33</td>\n",
       "    </tr>\n",
       "    <tr>\n",
       "      <th>해병대교육훈련단</th>\n",
       "      <td>9</td>\n",
       "    </tr>\n",
       "    <tr>\n",
       "      <th>10</th>\n",
       "      <th>육군훈련소</th>\n",
       "      <td>4</td>\n",
       "    </tr>\n",
       "    <tr>\n",
       "      <th>11</th>\n",
       "      <th>육군훈련소</th>\n",
       "      <td>1</td>\n",
       "    </tr>\n",
       "  </tbody>\n",
       "</table>\n",
       "<p>75 rows × 1 columns</p>\n",
       "</div>"
      ],
      "text/plain": [
       "                  gunGbnm\n",
       "month iybudaeCdm         \n",
       "5     12사단              3\n",
       "      15사단              3\n",
       "      21사단              3\n",
       "      28사단              4\n",
       "      36사단              1\n",
       "...                   ...\n",
       "9     육군훈련소            86\n",
       "      해군교육사령부          33\n",
       "      해병대교육훈련단          9\n",
       "10    육군훈련소             4\n",
       "11    육군훈련소             1\n",
       "\n",
       "[75 rows x 1 columns]"
      ]
     },
     "execution_count": 15,
     "metadata": {},
     "output_type": "execute_result"
    }
   ],
   "source": [
    "df['iyyjsijakYm'] = pd.to_datetime(df['iyyjsijakYm'], format=('%Y%m'))\n",
    "df['month'] = df['iyyjsijakYm'].dt.month\n",
    "\n",
    "a = df.groupby(['month','iybudaeCdm'])['gunGbnm'].count()\n",
    "pd.DataFrame(a)"
   ]
  },
  {
   "cell_type": "code",
   "execution_count": 16,
   "metadata": {},
   "outputs": [
    {
     "data": {
      "text/plain": [
       "array(['해군교육사령부', '육군훈련소', '12사단', '7사단', '6사단', '5사단', '28사단', '55사단',\n",
       "       '51사단', '3사단', '15사단', '21사단', '36사단', '해병대교육훈련단', '공군교육사령부'],\n",
       "      dtype=object)"
      ]
     },
     "execution_count": 16,
     "metadata": {},
     "output_type": "execute_result"
    }
   ],
   "source": [
    "# '입영부대명'\n",
    "df['iybudaeCdm'].unique()"
   ]
  },
  {
   "cell_type": "code",
   "execution_count": 17,
   "metadata": {},
   "outputs": [
    {
     "data": {
      "text/plain": [
       "iybudaeCdm\n",
       "12사단         15\n",
       "15사단         15\n",
       "21사단         15\n",
       "28사단         16\n",
       "36사단          5\n",
       "3사단          20\n",
       "51사단         10\n",
       "55사단         10\n",
       "5사단          20\n",
       "6사단          20\n",
       "7사단          15\n",
       "공군교육사령부      91\n",
       "육군훈련소       442\n",
       "해군교육사령부     215\n",
       "해병대교육훈련단     55\n",
       "Name: gunGbnm, dtype: int64"
      ]
     },
     "execution_count": 17,
     "metadata": {},
     "output_type": "execute_result"
    }
   ],
   "source": [
    "df.groupby('iybudaeCdm')['gunGbnm'].count()"
   ]
  },
  {
   "cell_type": "code",
   "execution_count": 18,
   "metadata": {},
   "outputs": [
    {
     "data": {
      "text/plain": [
       "array([202405, 202406, 202408, 202407, 202410, 202411, 202409, 202505,\n",
       "       202412, 202707], dtype=int64)"
      ]
     },
     "execution_count": 18,
     "metadata": {},
     "output_type": "execute_result"
    }
   ],
   "source": [
    "# '입영종료월'\n",
    "df['iyyjjongryoYm'].unique()"
   ]
  },
  {
   "cell_type": "code",
   "execution_count": 19,
   "metadata": {},
   "outputs": [
    {
     "data": {
      "text/plain": [
       "<DatetimeArray>\n",
       "['2024-05-01 00:00:00', '2024-06-01 00:00:00', '2024-07-01 00:00:00',\n",
       " '2024-09-01 00:00:00', '2024-11-01 00:00:00', '2024-08-01 00:00:00',\n",
       " '2025-05-01 00:00:00', '2024-10-01 00:00:00']\n",
       "Length: 8, dtype: datetime64[ns]"
      ]
     },
     "execution_count": 19,
     "metadata": {},
     "output_type": "execute_result"
    }
   ],
   "source": [
    "# '입영시작월'\n",
    "df['iyyjsijakYm'].unique()"
   ]
  },
  {
   "cell_type": "code",
   "execution_count": 20,
   "metadata": {},
   "outputs": [
    {
     "data": {
      "text/plain": [
       "array([20240227, 20240306, 20240403, 20240404, 20240409, 20240605,\n",
       "       20240604, 20240205, 20240206, 20240422, 20240419, 20240103,\n",
       "       20240508, 20240207, 20240507, 20240516, 20240305, 20240524,\n",
       "       20240522, 20240603, 20240126, 20240214], dtype=int64)"
      ]
     },
     "execution_count": 20,
     "metadata": {},
     "output_type": "execute_result"
    }
   ],
   "source": [
    "# '접수종료일자'\n",
    "df['jeopsuJrdtm'].unique()"
   ]
  },
  {
   "cell_type": "code",
   "execution_count": 21,
   "metadata": {},
   "outputs": [
    {
     "data": {
      "text/plain": [
       "[25962, 58078, 7611, 7307]"
      ]
     },
     "execution_count": 21,
     "metadata": {},
     "output_type": "execute_result"
    }
   ],
   "source": [
    "# '접수인원수'\n",
    "list(df.groupby('gunGbnm')['jeopsuPcnt'].sum())"
   ]
  },
  {
   "cell_type": "code",
   "execution_count": 22,
   "metadata": {},
   "outputs": [
    {
     "data": {
      "text/plain": [
       "array([  59,  601,   62,   78,    8,    9,   10,   82,    7,    1,   60,\n",
       "         18,   16,   48,  344,  172,  166,  233,  206,  124,  264,  103,\n",
       "         77,  122,   34, 2234,  313,  243,   21,  212,   47,   23,    3,\n",
       "         88,  205,    5,   50,    2,  327,    0,   41,    4,   40,   19,\n",
       "         26,   36,   25,   67,  115,  317,  102, 1229,   46,   31,   37,\n",
       "         92,  176,   89,   11,   58,    6,  477,   84,  364,  222,   20,\n",
       "         12,   15,   52,   65,   91,   86,   93,   17,   53,   81,   13,\n",
       "         63,   27,  597,  192,  422,  398,  459,  390,  194,  196,  799,\n",
       "         43,   61,   74,   44,   68,  735,  585,   56,   29,   42,   28,\n",
       "        342,   14,   38,   49,   54,  407,   98,  220,  239, 4034,  409,\n",
       "        199,  106, 1125,   24,  288, 1381,   66,  146,  256,  599, 1886,\n",
       "        207,  112, 6205,   85, 1105,   51,  175,  396,  116,  142,  380,\n",
       "        133,  227,  114,  110,  333,  141,  499,  224,  583,  450,   45,\n",
       "        306,  187,   83,  104,  148,   32,  721,  117,  436,  279,  357,\n",
       "         80,  445,  156,  271,  262,  365,  711,   30, 3875,  284,  958,\n",
       "         33,   64,  246,  286,  180,   70,  326,  624,  128,  134,  235,\n",
       "        121,  169, 1326,  743,  226,   39,  107,  137,   76,  263,  260,\n",
       "        139,  338,  100,  173,   99,   35,  896,  164,  414,  120,  144,\n",
       "        136,  250,  334,  314,  358,  366,   55,  292,   57,  119,  331,\n",
       "        351,   95,  214,  208,  125, 2323,  241,  167,  189,  564,  354,\n",
       "       1181,   69,  305,  416,   22,  219,  229,  385,  190,  113, 4360,\n",
       "       1522,  131,  804,  188,  269,  266,  379,  183,  154,  157,  238,\n",
       "        293,  876,  170,  197,  276,  130,  248], dtype=int64)"
      ]
     },
     "execution_count": 22,
     "metadata": {},
     "output_type": "execute_result"
    }
   ],
   "source": [
    "# '접수인원수'\n",
    "df['jeopsuPcnt'].unique()"
   ]
  },
  {
   "cell_type": "code",
   "execution_count": 23,
   "metadata": {},
   "outputs": [
    {
     "data": {
      "text/plain": [
       "array([20240220, 20240229, 20240327, 20240328, 20240405, 20240530,\n",
       "       20240531, 20240528, 20240129, 20240130, 20240411, 20240101,\n",
       "       20240430, 20240201, 20240429, 20240501, 20240509, 20240228,\n",
       "       20240227, 20240513, 20240516, 20240527, 20240125, 20240213],\n",
       "      dtype=int64)"
      ]
     },
     "execution_count": 23,
     "metadata": {},
     "output_type": "execute_result"
    }
   ],
   "source": [
    "# '접수시작일'\n",
    "df['jeopsuSjdtm'].unique()"
   ]
  },
  {
   "cell_type": "code",
   "execution_count": 24,
   "metadata": {},
   "outputs": [
    {
     "data": {
      "text/plain": [
       "array(['일반기술/전문기술병', '동반입대병', '복무지역선택병', '전문특기병', '기술행정병', '연고지복무병',\n",
       "       '직계가족병', '군악병', '문화홍보병', '어학병', '임기제부사관', '전문정보병', '군종병', '정보보호병',\n",
       "       'CBT병', '전문의무병', '위생관리병', '일반기술/전문기술병(전문화관리병포함)', '의장병', '빅데이터분석병',\n",
       "       '특수임무군사경찰', '군견관리병', '정훈병', '무인항공기운용병', '교육훈련매체개발병', '전문자격의무병',\n",
       "       '비파괴검사병', '식별보조병', '조리병', '콘텐츠제작병', 'IT개발관리병', '운항관리병', '통번역병'],\n",
       "      dtype=object)"
      ]
     },
     "execution_count": 24,
     "metadata": {},
     "output_type": "execute_result"
    }
   ],
   "source": [
    "# '모집구분명'\n",
    "df['mojipGbnm'].unique()"
   ]
  },
  {
   "cell_type": "code",
   "execution_count": 25,
   "metadata": {},
   "outputs": [
    {
     "data": {
      "text/plain": [
       "array([102,  18,  19,  20,  21,  22,  23,  24,   4, 202,  60,  61,   6,\n",
       "         2, 103, 992,   5,   9,  10,  11,  12,  13,  14,  15,  16,  17,\n",
       "         7,   8,  42,  43,  44,  45,  47,  48,  46, 203,   3, 104,  49,\n",
       "        50,  51,  52,  53,  54,  55,  56,  57,  58,  59,  25, 993,  29,\n",
       "        26,  27,  28,  30,  31,  32,  33,  34,  35,  36,  37,  38,  39,\n",
       "        40,  41], dtype=int64)"
      ]
     },
     "execution_count": 25,
     "metadata": {},
     "output_type": "execute_result"
    }
   ],
   "source": [
    "# '모집회차'\n",
    "df['mojipTms'].unique()"
   ]
  },
  {
   "cell_type": "code",
   "execution_count": 26,
   "metadata": {},
   "outputs": [
    {
     "data": {
      "text/plain": [
       "array([2024, 2023], dtype=int64)"
      ]
     },
     "execution_count": 26,
     "metadata": {},
     "output_type": "execute_result"
    }
   ],
   "source": [
    "# '모집년도'\n",
    "df['mojipYy'].unique()"
   ]
  },
  {
   "cell_type": "code",
   "execution_count": 27,
   "metadata": {},
   "outputs": [
    {
     "data": {
      "text/plain": [
       "array([ 2. ,  6. ,  2.1,  6.2,  1.6,  0.8,  0.9,  1. ,  0.4,  1.4,  1.5,\n",
       "        1.3,  1.8,  3.8,  1.7,  2.3,  2.7,  1.1,  2.8,  4.9,  2.6,  2.5,\n",
       "        4.3,  5.3,  1.2,  0.7,  2.9, 10.8,  0.6,  1.9,  4.5, 11.3,  0. ,\n",
       "        5.9,  4. ,  4.8,  6.8,  8.7,  0.3,  8.4,  3. , 40. , 10.2,  7.3,\n",
       "        6.6,  8. ,  5.1, 48. ,  3.9,  2.2, 10.4,  3.3,  3.7,  0.5,  5.6,\n",
       "       15. , 34. ,  3.5,  5. ,  9.1,  5.7,  6.3,  2.4,  3.4,  4.1, 10.6,\n",
       "       11.5,  4.2,  7.5,  3.6,  4.4,  3.1,  0.2,  0.1,  4.6, 17.7,  4.7,\n",
       "       14.6, 11.8,  7.1,  5.2, 28. , 12.5, 10.3,  9. , 11. , 25. , 10.9,\n",
       "       23. , 10. ,  7.4, 10.5, 15.5, 45. ,  6.4,  8.9, 30. , 14.1,  5.5,\n",
       "       23.4,  5.8, 11.6,  6.7,  7. ,  3.2,  9.3, 43. , 31. ,  6.1,  8.3,\n",
       "        9.9, 12. ,  8.2,  5.4, 16.4, 26. ,  9.5,  6.5, 36.6, 30.8, 31.4,\n",
       "       22.5, 16. ,  8.8, 13. ,  6.9,  7.7])"
      ]
     },
     "execution_count": 27,
     "metadata": {},
     "output_type": "execute_result"
    }
   ],
   "source": [
    "# '지원률'\n",
    "df['rate'].unique()"
   ]
  },
  {
   "cell_type": "code",
   "execution_count": 28,
   "metadata": {},
   "outputs": [
    {
     "data": {
      "text/plain": [
       "array([  1,   2,   3,   4,   5,   6,   7,   8,   9,  10,  11,  12,  13,\n",
       "        14,  15,  16,  17,  18,  19,  20,  21,  22,  23,  24,  25,  26,\n",
       "        27,  28,  29,  30,  31,  32,  33,  34,  35,  36,  37,  38,  39,\n",
       "        40,  41,  42,  43,  44,  45,  46,  47,  48,  49,  50,  51,  52,\n",
       "        53,  54,  55,  56,  57,  58,  59,  60,  61,  62,  63,  64,  65,\n",
       "        66,  67,  68,  69,  70,  71,  72,  73,  74,  75,  76,  77,  78,\n",
       "        79,  80,  81,  82,  83,  84,  85,  86,  87,  88,  89,  90,  91,\n",
       "        92,  93,  94,  95,  96,  97,  98,  99, 100, 101, 102, 103, 104,\n",
       "       105, 106, 107, 108, 109, 110, 111, 112, 113, 114, 115, 116, 117,\n",
       "       118, 119, 120, 121, 122, 123, 124, 125, 126, 127, 128, 129, 130,\n",
       "       131, 132, 133, 134, 135, 136, 137, 138, 139, 140, 141, 142, 143,\n",
       "       144, 145, 146, 147, 148, 149, 150, 151, 152, 153, 154, 155, 156,\n",
       "       157, 158, 159, 160, 161, 162, 163, 164, 165, 166, 167, 168, 169,\n",
       "       170, 171, 172, 173, 174, 175, 176, 177, 178, 179, 180, 181, 182,\n",
       "       183, 184, 185, 186, 187, 188, 189, 190, 191, 192, 193, 194, 195,\n",
       "       196, 197, 198, 199, 200, 201, 202, 203, 204, 205, 206, 207, 208,\n",
       "       209, 210, 211, 212, 213, 214, 215, 216, 217, 218, 219, 220, 221,\n",
       "       222, 223, 224, 225, 226, 227, 228, 229, 230, 231, 232, 233, 234,\n",
       "       235, 236, 237, 238, 239, 240, 241, 242, 243, 244, 245, 246, 247,\n",
       "       248, 249, 250, 251, 252, 253, 254, 255, 256, 257, 258, 259, 260,\n",
       "       261, 262, 263, 264, 265, 266, 267, 268, 269, 270, 271, 272, 273,\n",
       "       274, 275, 276, 277, 278, 279, 280, 281, 282, 283, 284, 285, 286,\n",
       "       287, 288, 289, 290, 291, 292, 293, 294, 295, 296, 297, 298, 299,\n",
       "       300, 301, 302, 303, 304, 305, 306, 307, 308, 309, 310, 311, 312,\n",
       "       313, 314, 315, 316, 317, 318, 319, 320, 321, 322, 323, 324, 325,\n",
       "       326, 327, 328, 329, 330, 331, 332, 333, 334, 335, 336, 337, 338,\n",
       "       339, 340, 341, 342, 343, 344, 345, 346, 347, 348, 349, 350, 351,\n",
       "       352, 353, 354, 355, 356, 357, 358, 359, 360, 361, 362, 363, 364,\n",
       "       365, 366, 367, 368, 369, 370, 371, 372, 373, 374, 375, 376, 377,\n",
       "       378, 379, 380, 381, 382, 383, 384, 385, 386, 387, 388, 389, 390,\n",
       "       391, 392, 393, 394, 395, 396, 397, 398, 399, 400, 401, 402, 403,\n",
       "       404, 405, 406, 407, 408, 409, 410, 411, 412, 413, 414, 415, 416,\n",
       "       417, 418, 419, 420, 421, 422, 423, 424, 425, 426, 427, 428, 429,\n",
       "       430, 431, 432, 433, 434, 435, 436, 437, 438, 439, 440, 441, 442,\n",
       "       443, 444, 445, 446, 447, 448, 449, 450, 451, 452, 453, 454, 455,\n",
       "       456, 457, 458, 459, 460, 461, 462, 463, 464, 465, 466, 467, 468,\n",
       "       469, 470, 471, 472, 473, 474, 475, 476, 477, 478, 479, 480, 481,\n",
       "       482, 483, 484, 485, 486, 487, 488, 489, 490, 491, 492, 493, 494,\n",
       "       495, 496, 497, 498, 499, 500, 501, 502, 503, 504, 505, 506, 507,\n",
       "       508, 509, 510, 511, 512, 513, 514, 515, 516, 517, 518, 519, 520,\n",
       "       521, 522, 523, 524, 525, 526, 527, 528, 529, 530, 531, 532, 533,\n",
       "       534, 535, 536, 537, 538, 539, 540, 541, 542, 543, 544, 545, 546,\n",
       "       547, 548, 549, 550, 551, 552, 553, 554, 555, 556, 557, 558, 559,\n",
       "       560, 561, 562, 563, 564, 565, 566, 567, 568, 569, 570, 571, 572,\n",
       "       573, 574, 575, 576, 577, 578, 579, 580, 581, 582, 583, 584, 585,\n",
       "       586, 587, 588, 589, 590, 591, 592, 593, 594, 595, 596, 597, 598,\n",
       "       599, 600, 601, 602, 603, 604, 605, 606, 607, 608, 609, 610, 611,\n",
       "       612, 613, 614, 615, 616, 617, 618, 619, 620, 621, 622, 623, 624,\n",
       "       625, 626, 627, 628, 629, 630, 631, 632, 633, 634, 635, 636, 637,\n",
       "       638, 639, 640, 641, 642, 643, 644, 645, 646, 647, 648, 649, 650,\n",
       "       651, 652, 653, 654, 655, 656, 657, 658, 659, 660, 661, 662, 663,\n",
       "       664, 665, 666, 667, 668, 669, 670, 671, 672, 673, 674, 675, 676,\n",
       "       677, 678, 679, 680, 681, 682, 683, 684, 685, 686, 687, 688, 689,\n",
       "       690, 691, 692, 693, 694, 695, 696, 697, 698, 699, 700, 701, 702,\n",
       "       703, 704, 705, 706, 707, 708, 709, 710, 711, 712, 713, 714, 715,\n",
       "       716, 717, 718, 719, 720, 721, 722, 723, 724, 725, 726, 727, 728,\n",
       "       729, 730, 731, 732, 733, 734, 735, 736, 737, 738, 739, 740, 741,\n",
       "       742, 743, 744, 745, 746, 747, 748, 749, 750, 751, 752, 753, 754,\n",
       "       755, 756, 757, 758, 759, 760, 761, 762, 763, 764, 765, 766, 767,\n",
       "       768, 769, 770, 771, 772, 773, 774, 775, 776, 777, 778, 779, 780,\n",
       "       781, 782, 783, 784, 785, 786, 787, 788, 789, 790, 791, 792, 793,\n",
       "       794, 795, 796, 797, 798, 799, 800, 801, 802, 803, 804, 805, 806,\n",
       "       807, 808, 809, 810, 811, 812, 813, 814, 815, 816, 817, 818, 819,\n",
       "       820, 821, 822, 823, 824, 825, 826, 827, 828, 829, 830, 831, 832,\n",
       "       833, 834, 835, 836, 837, 838, 839, 840, 841, 842, 843, 844, 845,\n",
       "       846, 847, 848, 849, 850, 851, 852, 853, 854, 855, 856, 857, 858,\n",
       "       859, 860, 861, 862, 863, 864, 865, 866, 867, 868, 869, 870, 871,\n",
       "       872, 873, 874, 875, 876, 877, 878, 879, 880, 881, 882, 883, 884,\n",
       "       885, 886, 887, 888, 889, 890, 891, 892, 893, 894, 895, 896, 897,\n",
       "       898, 899, 900, 901, 902, 903, 904, 905, 906, 907, 908, 909, 910,\n",
       "       911, 912, 913, 914, 915, 916, 917, 918, 919, 920, 921, 922, 923,\n",
       "       924, 925, 926, 927, 928, 929, 930, 931, 932, 933, 934, 935, 936,\n",
       "       937, 938, 939, 940, 941, 942, 943, 944, 945, 946, 947, 948, 949,\n",
       "       950, 951, 952, 953, 954, 955, 956, 957, 958, 959, 960, 961, 962,\n",
       "       963, 964], dtype=int64)"
      ]
     },
     "execution_count": 28,
     "metadata": {},
     "output_type": "execute_result"
    }
   ],
   "source": [
    "# '데이터번호'\n",
    "df['rnum'].unique()"
   ]
  },
  {
   "cell_type": "code",
   "execution_count": 29,
   "metadata": {},
   "outputs": [
    {
     "data": {
      "text/plain": [
       "array([  30,  100,   10,   50,   20,    1,   44,   12,   26,   91,   98,\n",
       "         92,   76,  117,   95,   21,   56,  123,   13, 1591,  124,    4,\n",
       "        164,   38,   34,    3,   19,    9,   41,   27,    2,   29,   28,\n",
       "         15,    7,    6,    5,  125,  201,    8,   31,   14,  185,   17,\n",
       "         42,   25,   49,  358,   39,  248,  126,   18,   70,   11,  199,\n",
       "         87,   43,   71,   97,   82,   40,  176,   46,   62,  223, 1400,\n",
       "         79,   22,   24,   58,   37,   16,  144,   48,   80,  194,   66,\n",
       "         32,  588,   73,  165,   53,  150,  200,   96,  871,  297,  184,\n",
       "        240,  195,  808,   54,  106,  147,  160, 1082,  373,  129,   60,\n",
       "        122,   86,  188,  198,   89,  251,  168,  114,   75,   36,  179,\n",
       "       1117,  180,  264,   78,   84,   52,  734,  105,  934,  112,  178,\n",
       "         23,   88,   51,  108,  202,  809,  352,   90,  140,  256,  236,\n",
       "         63,  141,  146,  811,   35,  118,  267,  116,  453,  131,   94,\n",
       "        130,   64,  155,  622,  103,  768,  246,  259,  138,   45,  930,\n",
       "        121,  323,  335,   47], dtype=int64)"
      ]
     },
     "execution_count": 29,
     "metadata": {},
     "output_type": "execute_result"
    }
   ],
   "source": [
    "# '선발인원수'\n",
    "df['seonbalPcnt'].unique()"
   ]
  },
  {
   "cell_type": "code",
   "execution_count": null,
   "metadata": {},
   "outputs": [],
   "source": []
  },
  {
   "cell_type": "code",
   "execution_count": null,
   "metadata": {},
   "outputs": [],
   "source": []
  },
  {
   "cell_type": "code",
   "execution_count": null,
   "metadata": {},
   "outputs": [],
   "source": []
  }
 ],
 "metadata": {
  "kernelspec": {
   "display_name": "Python 3",
   "language": "python",
   "name": "python3"
  },
  "language_info": {
   "codemirror_mode": {
    "name": "ipython",
    "version": 3
   },
   "file_extension": ".py",
   "mimetype": "text/x-python",
   "name": "python",
   "nbconvert_exporter": "python",
   "pygments_lexer": "ipython3",
   "version": "3.11.2"
  }
 },
 "nbformat": 4,
 "nbformat_minor": 2
}
