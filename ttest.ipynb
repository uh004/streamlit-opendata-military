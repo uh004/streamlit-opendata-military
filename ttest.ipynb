{
 "cells": [
  {
   "cell_type": "code",
   "execution_count": 84,
   "metadata": {},
   "outputs": [],
   "source": [
    "import pandas as pd"
   ]
  },
  {
   "cell_type": "code",
   "execution_count": 85,
   "metadata": {},
   "outputs": [
    {
     "data": {
      "text/html": [
       "<div>\n",
       "<style scoped>\n",
       "    .dataframe tbody tr th:only-of-type {\n",
       "        vertical-align: middle;\n",
       "    }\n",
       "\n",
       "    .dataframe tbody tr th {\n",
       "        vertical-align: top;\n",
       "    }\n",
       "\n",
       "    .dataframe thead th {\n",
       "        text-align: right;\n",
       "    }\n",
       "</style>\n",
       "<table border=\"1\" class=\"dataframe\">\n",
       "  <thead>\n",
       "    <tr style=\"text-align: right;\">\n",
       "      <th></th>\n",
       "      <th>Unnamed: 0</th>\n",
       "      <th>extremes</th>\n",
       "      <th>gsteukgiCd</th>\n",
       "      <th>gsteukgiNm</th>\n",
       "      <th>gunGbnm</th>\n",
       "      <th>iybudaeCdm</th>\n",
       "      <th>iyyjjongryoYm</th>\n",
       "      <th>iyyjsijakYm</th>\n",
       "      <th>jeopsuJrdtm</th>\n",
       "      <th>jeopsuPcnt</th>\n",
       "      <th>jeopsuSjdtm</th>\n",
       "      <th>mojipGbnm</th>\n",
       "      <th>mojipTms</th>\n",
       "      <th>mojipYy</th>\n",
       "      <th>rate</th>\n",
       "      <th>rnum</th>\n",
       "      <th>seonbalPcnt</th>\n",
       "    </tr>\n",
       "  </thead>\n",
       "  <tbody>\n",
       "    <tr>\n",
       "      <th>0</th>\n",
       "      <td>0</td>\n",
       "      <td>29</td>\n",
       "      <td>43</td>\n",
       "      <td>기관</td>\n",
       "      <td>해군</td>\n",
       "      <td>해군교육사령부</td>\n",
       "      <td>202405</td>\n",
       "      <td>202405</td>\n",
       "      <td>20240227</td>\n",
       "      <td>59</td>\n",
       "      <td>20240220</td>\n",
       "      <td>일반기술/전문기술병</td>\n",
       "      <td>102</td>\n",
       "      <td>2024</td>\n",
       "      <td>2.0</td>\n",
       "      <td>1</td>\n",
       "      <td>30</td>\n",
       "    </tr>\n",
       "    <tr>\n",
       "      <th>1</th>\n",
       "      <td>1</td>\n",
       "      <td>501</td>\n",
       "      <td>11</td>\n",
       "      <td>일반</td>\n",
       "      <td>해군</td>\n",
       "      <td>해군교육사령부</td>\n",
       "      <td>202405</td>\n",
       "      <td>202405</td>\n",
       "      <td>20240227</td>\n",
       "      <td>601</td>\n",
       "      <td>20240220</td>\n",
       "      <td>일반기술/전문기술병</td>\n",
       "      <td>102</td>\n",
       "      <td>2024</td>\n",
       "      <td>6.0</td>\n",
       "      <td>2</td>\n",
       "      <td>100</td>\n",
       "    </tr>\n",
       "    <tr>\n",
       "      <th>2</th>\n",
       "      <td>2</td>\n",
       "      <td>32</td>\n",
       "      <td>11.05</td>\n",
       "      <td>조리</td>\n",
       "      <td>해군</td>\n",
       "      <td>해군교육사령부</td>\n",
       "      <td>202405</td>\n",
       "      <td>202405</td>\n",
       "      <td>20240227</td>\n",
       "      <td>62</td>\n",
       "      <td>20240220</td>\n",
       "      <td>일반기술/전문기술병</td>\n",
       "      <td>102</td>\n",
       "      <td>2024</td>\n",
       "      <td>2.1</td>\n",
       "      <td>3</td>\n",
       "      <td>30</td>\n",
       "    </tr>\n",
       "    <tr>\n",
       "      <th>3</th>\n",
       "      <td>3</td>\n",
       "      <td>52</td>\n",
       "      <td>803</td>\n",
       "      <td>동반_군사경찰</td>\n",
       "      <td>해군</td>\n",
       "      <td>해군교육사령부</td>\n",
       "      <td>202405</td>\n",
       "      <td>202405</td>\n",
       "      <td>20240227</td>\n",
       "      <td>62</td>\n",
       "      <td>20240220</td>\n",
       "      <td>동반입대병</td>\n",
       "      <td>102</td>\n",
       "      <td>2024</td>\n",
       "      <td>6.2</td>\n",
       "      <td>4</td>\n",
       "      <td>10</td>\n",
       "    </tr>\n",
       "    <tr>\n",
       "      <th>4</th>\n",
       "      <td>4</td>\n",
       "      <td>28</td>\n",
       "      <td>B11</td>\n",
       "      <td>(2함대)일반</td>\n",
       "      <td>해군</td>\n",
       "      <td>해군교육사령부</td>\n",
       "      <td>202405</td>\n",
       "      <td>202405</td>\n",
       "      <td>20240227</td>\n",
       "      <td>78</td>\n",
       "      <td>20240220</td>\n",
       "      <td>복무지역선택병</td>\n",
       "      <td>102</td>\n",
       "      <td>2024</td>\n",
       "      <td>1.6</td>\n",
       "      <td>5</td>\n",
       "      <td>50</td>\n",
       "    </tr>\n",
       "  </tbody>\n",
       "</table>\n",
       "</div>"
      ],
      "text/plain": [
       "   Unnamed: 0  extremes gsteukgiCd gsteukgiNm gunGbnm iybudaeCdm  \\\n",
       "0           0        29         43         기관      해군    해군교육사령부   \n",
       "1           1       501         11         일반      해군    해군교육사령부   \n",
       "2           2        32      11.05         조리      해군    해군교육사령부   \n",
       "3           3        52        803    동반_군사경찰      해군    해군교육사령부   \n",
       "4           4        28        B11    (2함대)일반      해군    해군교육사령부   \n",
       "\n",
       "   iyyjjongryoYm  iyyjsijakYm  jeopsuJrdtm  jeopsuPcnt  jeopsuSjdtm  \\\n",
       "0         202405       202405     20240227          59     20240220   \n",
       "1         202405       202405     20240227         601     20240220   \n",
       "2         202405       202405     20240227          62     20240220   \n",
       "3         202405       202405     20240227          62     20240220   \n",
       "4         202405       202405     20240227          78     20240220   \n",
       "\n",
       "    mojipGbnm  mojipTms  mojipYy  rate  rnum  seonbalPcnt  \n",
       "0  일반기술/전문기술병       102     2024   2.0     1           30  \n",
       "1  일반기술/전문기술병       102     2024   6.0     2          100  \n",
       "2  일반기술/전문기술병       102     2024   2.1     3           30  \n",
       "3       동반입대병       102     2024   6.2     4           10  \n",
       "4     복무지역선택병       102     2024   1.6     5           50  "
      ]
     },
     "execution_count": 85,
     "metadata": {},
     "output_type": "execute_result"
    }
   ],
   "source": [
    "df = pd.read_csv('soldier.csv')\n",
    "df.head()"
   ]
  },
  {
   "cell_type": "code",
   "execution_count": 86,
   "metadata": {},
   "outputs": [],
   "source": [
    "df['iyyjsijakYm'] = pd.to_datetime(df['iyyjsijakYm'], format=('%Y%m'))\n",
    "df['month'] = df['iyyjsijakYm'].dt.month\n",
    "apt_df = df[(df['gunGbnm'] == '육군') & (df['month'].isin([5,6]))]"
   ]
  },
  {
   "cell_type": "code",
   "execution_count": 87,
   "metadata": {},
   "outputs": [
    {
     "data": {
      "text/plain": [
       "(226, 18)"
      ]
     },
     "execution_count": 87,
     "metadata": {},
     "output_type": "execute_result"
    }
   ],
   "source": [
    "apt_df.shape"
   ]
  },
  {
   "cell_type": "code",
   "execution_count": 88,
   "metadata": {},
   "outputs": [],
   "source": [
    "may_df = apt_df[apt_df['month'] == 5]\n",
    "june_df = apt_df[apt_df['month'] == 6]"
   ]
  },
  {
   "cell_type": "code",
   "execution_count": 90,
   "metadata": {},
   "outputs": [
    {
     "name": "stdout",
     "output_type": "stream",
     "text": [
      "5월 육군 평균 과부족 인원 :  15181\n",
      "6월 육군 평균 과부족 인원 :  8263\n"
     ]
    }
   ],
   "source": [
    "print('5월 육군 평균 과부족 인원 : ', may_df.groupby('gunGbnm')['extremes'].sum().iloc[0])\n",
    "print('6월 육군 평균 과부족 인원 : ', june_df.groupby('gunGbnm')['extremes'].sum().iloc[0])"
   ]
  },
  {
   "cell_type": "code",
   "execution_count": null,
   "metadata": {},
   "outputs": [],
   "source": [
    "print('5월 육군 평균 과부족 인원 : ', may_df['extremes'])\n",
    "print('6월 육군 평균 과부족 인원 : ', june_df['extremes'])"
   ]
  },
  {
   "cell_type": "code",
   "execution_count": 92,
   "metadata": {},
   "outputs": [
    {
     "data": {
      "text/html": [
       "<div>\n",
       "<style scoped>\n",
       "    .dataframe tbody tr th:only-of-type {\n",
       "        vertical-align: middle;\n",
       "    }\n",
       "\n",
       "    .dataframe tbody tr th {\n",
       "        vertical-align: top;\n",
       "    }\n",
       "\n",
       "    .dataframe thead th {\n",
       "        text-align: right;\n",
       "    }\n",
       "</style>\n",
       "<table border=\"1\" class=\"dataframe\">\n",
       "  <thead>\n",
       "    <tr style=\"text-align: right;\">\n",
       "      <th></th>\n",
       "      <th>T</th>\n",
       "      <th>dof</th>\n",
       "      <th>alternative</th>\n",
       "      <th>p-val</th>\n",
       "      <th>CI95%</th>\n",
       "      <th>cohen-d</th>\n",
       "      <th>BF10</th>\n",
       "      <th>power</th>\n",
       "    </tr>\n",
       "  </thead>\n",
       "  <tbody>\n",
       "    <tr>\n",
       "      <th>T-test</th>\n",
       "      <td>1.276349</td>\n",
       "      <td>216.579725</td>\n",
       "      <td>two-sided</td>\n",
       "      <td>0.203199</td>\n",
       "      <td>[-21.57, 100.84]</td>\n",
       "      <td>0.163887</td>\n",
       "      <td>0.314</td>\n",
       "      <td>0.230297</td>\n",
       "    </tr>\n",
       "  </tbody>\n",
       "</table>\n",
       "</div>"
      ],
      "text/plain": [
       "               T         dof alternative     p-val             CI95%  \\\n",
       "T-test  1.276349  216.579725   two-sided  0.203199  [-21.57, 100.84]   \n",
       "\n",
       "         cohen-d   BF10     power  \n",
       "T-test  0.163887  0.314  0.230297  "
      ]
     },
     "execution_count": 92,
     "metadata": {},
     "output_type": "execute_result"
    }
   ],
   "source": [
    "from pingouin import ttest\n",
    "ttest(may_df['extremes'], june_df['extremes'], paired=False)"
   ]
  },
  {
   "cell_type": "code",
   "execution_count": 94,
   "metadata": {},
   "outputs": [],
   "source": [
    "import seaborn as sns\n",
    "import matplotlib.pyplot as plt"
   ]
  },
  {
   "cell_type": "code",
   "execution_count": 97,
   "metadata": {},
   "outputs": [
    {
     "data": {
      "image/png": "[encoded data removed]",
      "text/plain": [
       "<Figure size 640x480 with 1 Axes>"
      ]
     },
     "metadata": {},
     "output_type": "display_data"
    }
   ],
   "source": [
    "fig,ax = plt.subplots()\n",
    "sns.pointplot(x='month', y='extremes', data=apt_df)\n",
    "sns.despine()\n",
    "plt.show()"
   ]
  },
  {
   "cell_type": "code",
   "execution_count": null,
   "metadata": {},
   "outputs": [],
   "source": []
  },
  {
   "cell_type": "code",
   "execution_count": null,
   "metadata": {},
   "outputs": [],
   "source": []
  },
  {
   "cell_type": "code",
   "execution_count": null,
   "metadata": {},
   "outputs": [],
   "source": []
  },
  {
   "cell_type": "code",
   "execution_count": null,
   "metadata": {},
   "outputs": [],
   "source": []
  }
 ],
 "metadata": {
  "kernelspec": {
   "display_name": "Python 3",
   "language": "python",
   "name": "python3"
  },
  "language_info": {
   "codemirror_mode": {
    "name": "ipython",
    "version": 3
   },
   "file_extension": ".py",
   "mimetype": "text/x-python",
   "name": "python",
   "nbconvert_exporter": "python",
   "pygments_lexer": "ipython3",
   "version": "3.11.2"
  }
 },
 "nbformat": 4,
 "nbformat_minor": 2
}
